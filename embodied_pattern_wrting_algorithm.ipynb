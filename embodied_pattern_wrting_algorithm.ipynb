{
  "nbformat": 4,
  "nbformat_minor": 0,
  "metadata": {
    "colab": {
      "name": "embodied_pattern_wrting_algorithm.ipynb",
      "provenance": [],
      "collapsed_sections": []
    },
    "kernelspec": {
      "name": "python3",
      "display_name": "Python 3"
    }
  },
  "cells": [
    {
      "cell_type": "code",
      "metadata": {
        "id": "tZsJHw9p7WC6",
        "colab_type": "code",
        "colab": {
          "base_uri": "https://localhost:8080/",
          "height": 188
        },
        "outputId": "df07f090-3e43-4ca1-b5a9-ad7982c7f10a"
      },
      "source": [
        "import random\n",
        "# condition: we have func to translate pattern to time\n",
        "\n",
        "#  \"1 _ _1 _\" -> [0.0, 0.625]\n",
        "#  \"1 1 \" -> [0.0, 0.5]\n",
        "#  \"1 _ 1\" -> [0.0, 0.6666666666666666]\n",
        "#  \"_ 1\" -> [0.5]\n",
        "\n",
        "# problem: given a humanised time point list, how to get the pattern?\n",
        "# e.g. [0.0, 0.6235645] -> \"1 _ _1 _\"\n",
        "\n",
        "def pattern_to_time(pattern): # pattern is a string\n",
        "  print(pattern)\n",
        "  parts = pattern.split(\" \")\n",
        "  part_unit = 1 / len(parts)\n",
        "  print(\"part unit time is {}\".format(part_unit))\n",
        "  parts = list(map(lambda x: list(x), parts))\n",
        "  # print(parts)\n",
        "  time = 0.0\n",
        "  event_time = []\n",
        "  for part in parts:\n",
        "    element_unit = part_unit / len(part)\n",
        "    for element in part:\n",
        "      \n",
        "      if element is \"1\":\n",
        "        event_time.append(time)\n",
        "      \n",
        "      time += element_unit\n",
        "  print(\"event time is {}\".format(event_time))\n",
        "  return event_time\n",
        "\n",
        "# exact timelist\n",
        "# timelist = pattern_to_time(\"1 _ 1\")\n",
        "# print(\"exact timelist {}\".format(timelist))\n",
        "\n",
        "# humanised timelist\n",
        "def humanise(timelist, threshold=0.01):\n",
        "  result = []\n",
        "  for time in timelist:\n",
        "    if time == 0.0:\n",
        "      result.append(time)\n",
        "    else:\n",
        "      result.append(time + (random.random()*2-1)*threshold)\n",
        "  return result\n",
        "# timelist = humanise(timelist)\n",
        "# print(\"humanised timelist {}\".format(timelist))\n",
        "\n",
        "def time_to_pattern(timelist, threshold=0.01):\n",
        "  # algo here\n",
        "  # create a tree, we know it is two layers\n",
        "  # but have no idea how many nodes we have for each layer\n",
        "\n",
        "  possible_l1 = possible_l2 = range(8)\n",
        "  # node_1_1 = node_2_1 = [2, 4, 3]\n",
        "  # node_1_2 = node_2_2 = list(range(5, 9))\n",
        "\n",
        "  pattern = \"\"\n",
        "  for layer_1 in possible_l1:\n",
        "    find = False\n",
        "    for layer_2 in possible_l2:\n",
        "      pattern = \"\"\n",
        "      total_grid = layer_1 * layer_2\n",
        "      points = []\n",
        "\n",
        "      possible = [ 1/total_grid*i for i in range(total_grid)]\n",
        "\n",
        "      for timepoint in timelist:\n",
        "\n",
        "        for (i, note) in enumerate(possible):\n",
        "          if abs(timepoint - note) < threshold and i not in points:\n",
        "\n",
        "            print(\"current layer 1 is {}; layer 2 is {}; \\\n",
        "            find timepoint {} in possible slot {}; \\\n",
        "            slot num is {}; \".format(layer_1, layer_2, timepoint, note, i))\n",
        "\n",
        "            points.append(i)\n",
        "            break\n",
        "        if len(points) is len(timelist):\n",
        "          find = True\n",
        "          break\n",
        "\n",
        "      if find:\n",
        "      # start to picutre the pattern\n",
        "      # knowing layer 1 and layer 2 num, we can get a complex pattern, e.g. l1=2, l2=4 -> \"____ ____\"\n",
        "      # then we do some abbreviation\n",
        "\n",
        "        current = 0\n",
        "        for i in range(layer_1):\n",
        "          pattern_temp = \"\"\n",
        "          for j in range(layer_2):\n",
        "            if current in points:\n",
        "              pattern_temp += \"1\"\n",
        "            else:\n",
        "              pattern_temp += \"_\"\n",
        "            current += 1\n",
        "\n",
        "          # filter pattern like \"1___\" to be \"1\"\n",
        "          if pattern_temp[0] is not \"_\" and len(list(filter(lambda x: x is not \"_\", pattern_temp[1:]))) is 0:\n",
        "            pattern_temp = \"1\"    \n",
        "          pattern += pattern_temp\n",
        "          pattern += \" \"\n",
        "        print(\"points {}, generate pattern {}\".format(points, pattern))\n",
        "        break\n",
        "    if find:\n",
        "      break\n",
        "\n",
        "  return pattern[:-1] # remove the last space\n",
        "\n",
        "time_to_pattern(humanise(pattern_to_time(\"1 _1\"), threshold=0.01), threshold=0.02)"
      ],
      "execution_count": 1,
      "outputs": [
        {
          "output_type": "stream",
          "text": [
            "1 _1\n",
            "part unit time is 0.5\n",
            "event time is [0.0, 0.75]\n",
            "current layer 1 is 1; layer 2 is 1;             find timepoint 0.0 in possible slot 0.0;             slot num is 0; \n",
            "current layer 1 is 1; layer 2 is 2;             find timepoint 0.0 in possible slot 0.0;             slot num is 0; \n",
            "current layer 1 is 1; layer 2 is 3;             find timepoint 0.0 in possible slot 0.0;             slot num is 0; \n",
            "current layer 1 is 1; layer 2 is 4;             find timepoint 0.0 in possible slot 0.0;             slot num is 0; \n",
            "current layer 1 is 1; layer 2 is 4;             find timepoint 0.7476692491760465 in possible slot 0.75;             slot num is 3; \n",
            "points [0, 3], generate pattern 1__1 \n"
          ],
          "name": "stdout"
        },
        {
          "output_type": "execute_result",
          "data": {
            "application/vnd.google.colaboratory.intrinsic": {
              "type": "string"
            },
            "text/plain": [
              "'1__1'"
            ]
          },
          "metadata": {
            "tags": []
          },
          "execution_count": 1
        }
      ]
    },
    {
      "cell_type": "code",
      "metadata": {
        "id": "rRMDEJ7PKfly",
        "colab_type": "code",
        "colab": {
          "base_uri": "https://localhost:8080/",
          "height": 34
        },
        "outputId": "843ad31d-f286-4d44-ac1e-8d1c8c371d0b"
      },
      "source": [
        "len(list(filter(lambda x: x is not \"_\", \"___\"))) is 0"
      ],
      "execution_count": null,
      "outputs": [
        {
          "output_type": "execute_result",
          "data": {
            "text/plain": [
              "[]"
            ]
          },
          "metadata": {
            "tags": []
          },
          "execution_count": 28
        }
      ]
    },
    {
      "cell_type": "code",
      "metadata": {
        "id": "YQlJ1Wrbfmkz",
        "colab_type": "code",
        "colab": {
          "base_uri": "https://localhost:8080/",
          "height": 34
        },
        "outputId": "98370214-78d5-4281-8c78-fe991d92c429"
      },
      "source": [
        "0 == 0.0"
      ],
      "execution_count": null,
      "outputs": [
        {
          "output_type": "execute_result",
          "data": {
            "text/plain": [
              "True"
            ]
          },
          "metadata": {
            "tags": []
          },
          "execution_count": 52
        }
      ]
    },
    {
      "cell_type": "markdown",
      "metadata": {
        "id": "8hFe6Vhnfavq",
        "colab_type": "text"
      },
      "source": [
        ""
      ]
    }
  ]
}